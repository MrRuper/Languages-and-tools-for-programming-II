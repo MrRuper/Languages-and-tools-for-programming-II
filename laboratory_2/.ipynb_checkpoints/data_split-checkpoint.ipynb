{
 "cells": [
  {
   "cell_type": "code",
   "execution_count": null,
   "id": "ca2adaaa",
   "metadata": {},
   "outputs": [],
   "source": [
    "import numpy as np"
   ]
  },
  {
   "cell_type": "markdown",
   "id": "49080d24",
   "metadata": {},
   "source": [
    "#### Split data into random train and test subsets."
   ]
  },
  {
   "cell_type": "code",
   "execution_count": null,
   "id": "78bd61c6",
   "metadata": {},
   "outputs": [],
   "source": [
    "from sklearn.model_selection import train_test_split"
   ]
  },
  {
   "cell_type": "code",
   "execution_count": null,
   "id": "5a0abed4",
   "metadata": {},
   "outputs": [],
   "source": [
    "X = np.array([[1, 2], [3, 4], [5, 6], [7, 8], [9, 10], [11, 12], [13, 14]])\n",
    "# X = np.arange(14).reshape((7, 2)) + 1\n",
    "\n",
    "y = np.array([0, 0, 0, 0, 0, 1, 1])\n",
    "\n",
    "X_train, X_test, y_train, y_test = train_test_split(X,y,test_size=0.2)"
   ]
  },
  {
   "cell_type": "code",
   "execution_count": null,
   "id": "ad574443",
   "metadata": {},
   "outputs": [],
   "source": [
    "print(X_train)\n",
    "print(y_train)"
   ]
  },
  {
   "cell_type": "code",
   "execution_count": null,
   "id": "c4361739",
   "metadata": {},
   "outputs": [],
   "source": [
    "print(X_test)\n",
    "print(y_test)"
   ]
  },
  {
   "cell_type": "markdown",
   "id": "9d757a73",
   "metadata": {},
   "source": [
    "#### Stratified train-test split\n",
    "Ensures that relative class frequencies are approximately preserved in each train and test datasets. This is relevant in the case of large imbalance in the distribution of the target classes: for instance there could be several times more negative samples than positive samples."
   ]
  },
  {
   "cell_type": "code",
   "execution_count": null,
   "id": "e593b669",
   "metadata": {},
   "outputs": [],
   "source": [
    "X = np.arange(18).reshape((9, 2)) + 1\n",
    "print('X:', X)\n",
    "\n",
    "y = [0,0,0,0,0,0,1,1,1]\n",
    "\n",
    "X_train, X_test, y_train, y_test = train_test_split(X, y, test_size=0.33, stratify=y)\n",
    "\n",
    "print(\"=== Training dataset ===\")\n",
    "print(X_train)\n",
    "print(y_train)\n",
    "print(\"=== Test dataset ===\")\n",
    "print(X_test)\n",
    "print(y_test)"
   ]
  },
  {
   "cell_type": "markdown",
   "id": "c58483dc",
   "metadata": {},
   "source": [
    "---\n",
    "#### ShuffleSplit: random permutation cross-validator\n",
    "\n",
    "Yields indices to split data into training and test sets.\n",
    "\n",
    "https://scikit-learn.org/stable/modules/generated/sklearn.model_selection.ShuffleSplit"
   ]
  },
  {
   "cell_type": "code",
   "execution_count": null,
   "id": "61631a9d",
   "metadata": {},
   "outputs": [],
   "source": [
    "from sklearn.model_selection import ShuffleSplit"
   ]
  },
  {
   "cell_type": "code",
   "execution_count": null,
   "id": "78ee076d",
   "metadata": {},
   "outputs": [],
   "source": [
    "#X = np.array([[1, 2], [3, 4], [5, 6], [7, 8], [9, 10], [11, 12], [13,14], [15,16]])\n",
    "X = np.arange(16).reshape((8, 2)) + 1\n",
    "y = np.array([0, 1, 0, 1, 0, 1, 1, 1])"
   ]
  },
  {
   "cell_type": "code",
   "execution_count": null,
   "id": "48e6da62",
   "metadata": {},
   "outputs": [],
   "source": [
    "rs  = ShuffleSplit(n_splits=5, test_size=.25, random_state=0)\n",
    "print(rs)"
   ]
  },
  {
   "cell_type": "code",
   "execution_count": null,
   "id": "5c1ac171",
   "metadata": {},
   "outputs": [],
   "source": [
    "rs.get_n_splits(X)"
   ]
  },
  {
   "cell_type": "code",
   "execution_count": null,
   "id": "a698664a",
   "metadata": {},
   "outputs": [],
   "source": [
    "# Generator object\n",
    "rs.split(X)"
   ]
  },
  {
   "cell_type": "code",
   "execution_count": null,
   "id": "3132bfca",
   "metadata": {},
   "outputs": [],
   "source": [
    "for i, (train_index, test_index) in enumerate(rs.split(X)):\n",
    "    print(f\"Fold {i}:\")\n",
    "    print(f\"  Train: index={train_index}\")\n",
    "    print(f\"  Test:  index={test_index}\")"
   ]
  },
  {
   "cell_type": "code",
   "execution_count": null,
   "id": "15271b6b",
   "metadata": {},
   "outputs": [],
   "source": [
    "# Specify train and test size\n",
    "rs = ShuffleSplit(n_splits = 5, train_size = 0.5, test_size =. 25, random_state = 0)\n",
    "for i, (train_index, test_index) in enumerate(rs.split(X)):\n",
    "    print(f\"Fold {i}:\")\n",
    "    print(f\"  Train: index={train_index}\")\n",
    "    print(f\"  Test:  index={test_index}\")"
   ]
  },
  {
   "cell_type": "markdown",
   "id": "a6a0e08c",
   "metadata": {},
   "source": [
    "#### Classical K-fold cross-validation\n",
    "\n",
    "https://scikit-learn.org/stable/modules/generated/sklearn.model_selection.KFold.html"
   ]
  },
  {
   "cell_type": "code",
   "execution_count": null,
   "id": "96102a4e",
   "metadata": {},
   "outputs": [],
   "source": [
    "from sklearn.model_selection import KFold"
   ]
  },
  {
   "cell_type": "code",
   "execution_count": null,
   "id": "a8117033",
   "metadata": {},
   "outputs": [],
   "source": [
    "X = np.array([[1, 2], [3, 4], [5, 6], [7, 8], [9, 10], [11, 12], [13, 14]])\n",
    "y = np.array([0, 0, 0, 0, 1, 1, 1])\n",
    "kf = KFold(n_splits=3,shuffle=False)\n",
    "print(kf)"
   ]
  },
  {
   "cell_type": "markdown",
   "id": "88d1b931",
   "metadata": {},
   "source": [
    "Number of splitting iterations in the cross-validator"
   ]
  },
  {
   "cell_type": "code",
   "execution_count": null,
   "id": "0afdfd7c",
   "metadata": {},
   "outputs": [],
   "source": [
    "n_splits = kf.get_n_splits(X)\n",
    "print(n_splits)"
   ]
  },
  {
   "cell_type": "code",
   "execution_count": null,
   "id": "1386e3db",
   "metadata": {},
   "outputs": [],
   "source": [
    "n_samples = len(X)\n",
    "print(n_samples)"
   ]
  },
  {
   "cell_type": "code",
   "execution_count": null,
   "id": "302876fc",
   "metadata": {},
   "outputs": [],
   "source": [
    "kf.split(X)"
   ]
  },
  {
   "cell_type": "code",
   "execution_count": null,
   "id": "c4418daa",
   "metadata": {},
   "outputs": [],
   "source": [
    "for i, (train_index, test_index) in enumerate(kf.split(X)):\n",
    "    print(f\"Fold {i}:\")\n",
    "    print(f\"  Train: index={train_index}\")\n",
    "    print(f\"  Test:  index={test_index}\")\n",
    "    \n",
    "    #print(f\"  Train dataset={X[train_index]}, {y[train_index]}\")\n",
    "    #print(f\"  Test dataset={X[test_index]}, {y[test_index]}\")"
   ]
  },
  {
   "cell_type": "markdown",
   "id": "22446638",
   "metadata": {},
   "source": [
    "The first n_samples % n_splits folds have size n_samples // n_splits + 1, other folds have size n_samples // n_splits, where n_samples is the number of samples."
   ]
  },
  {
   "cell_type": "code",
   "execution_count": null,
   "id": "589b8b41",
   "metadata": {},
   "outputs": [],
   "source": [
    "n_samples % n_splits"
   ]
  },
  {
   "cell_type": "code",
   "execution_count": null,
   "id": "ba7ace78",
   "metadata": {},
   "outputs": [],
   "source": [
    "n_samples // n_splits + 1"
   ]
  },
  {
   "cell_type": "code",
   "execution_count": null,
   "id": "28328130",
   "metadata": {},
   "outputs": [],
   "source": [
    "n_samples // n_splits"
   ]
  },
  {
   "cell_type": "markdown",
   "id": "df38817a",
   "metadata": {},
   "source": [
    "---\n",
    "#### StratifiedKFold ensures a data split that preserves the proportion of classes\n",
    "\n",
    "https://scikit-learn.org/stable/modules/generated/sklearn.model_selection.StratifiedKFold.html"
   ]
  },
  {
   "cell_type": "code",
   "execution_count": null,
   "id": "0a46a2f5",
   "metadata": {},
   "outputs": [],
   "source": [
    "from sklearn.model_selection import StratifiedKFold"
   ]
  },
  {
   "cell_type": "code",
   "execution_count": null,
   "id": "44629985",
   "metadata": {},
   "outputs": [],
   "source": [
    "X = np.array([[1, 2], [3, 4], [5, 6], [7, 8], [9, 10], [11, 12]])\n",
    "y = np.array([0, 0, 0, 0, 1, 1])"
   ]
  },
  {
   "cell_type": "code",
   "execution_count": null,
   "id": "91903fa7",
   "metadata": {},
   "outputs": [],
   "source": [
    "skf = StratifiedKFold(n_splits=2, shuffle=False)\n",
    "print(skf)"
   ]
  },
  {
   "cell_type": "code",
   "execution_count": null,
   "id": "fde735e7",
   "metadata": {},
   "outputs": [],
   "source": [
    "skf.get_n_splits(X, y)"
   ]
  },
  {
   "cell_type": "code",
   "execution_count": null,
   "id": "e4dfedd3",
   "metadata": {},
   "outputs": [],
   "source": [
    "for i, (train_index, test_index) in enumerate(skf.split(X, y)):\n",
    "    print(f\"Fold {i}:\")\n",
    "    print(f\"  Train: index={train_index}\")\n",
    "    print(f\"  Test:  index={test_index}\")"
   ]
  },
  {
   "cell_type": "markdown",
   "id": "7b9c03b9",
   "metadata": {},
   "source": [
    "---\n",
    "#### RepeatedStratifiedKFold repeats stratified K-Fold n times with different randomization in each repetition.\n",
    "\n",
    "https://scikit-learn.org/stable/modules/generated/sklearn.model_selection.RepeatedStratifiedKFold.html"
   ]
  },
  {
   "cell_type": "code",
   "execution_count": null,
   "id": "ace5b388",
   "metadata": {},
   "outputs": [],
   "source": [
    "from sklearn.model_selection import RepeatedStratifiedKFold"
   ]
  },
  {
   "cell_type": "code",
   "execution_count": null,
   "id": "040858ad",
   "metadata": {},
   "outputs": [],
   "source": [
    "X = np.array([[1, 2], [3, 4], [5, 6], [7, 8]])\n",
    "y = np.array([0, 0, 1, 1])"
   ]
  },
  {
   "cell_type": "code",
   "execution_count": null,
   "id": "faa87d33",
   "metadata": {},
   "outputs": [],
   "source": [
    "rskf = RepeatedStratifiedKFold(n_splits=2, n_repeats=3, random_state=36851234)\n",
    "print(rskf)"
   ]
  },
  {
   "cell_type": "code",
   "execution_count": null,
   "id": "5154d422",
   "metadata": {},
   "outputs": [],
   "source": [
    "rskf.get_n_splits(X, y)"
   ]
  },
  {
   "cell_type": "code",
   "execution_count": null,
   "id": "4c47c5aa",
   "metadata": {},
   "outputs": [],
   "source": [
    "for i, (train_index, test_index) in enumerate(rskf.split(X, y)):\n",
    "    print(f\"Fold {i}:\")\n",
    "    print(f\"  Train: index={train_index}\")\n",
    "    print(f\"  Test:  index={test_index}\")"
   ]
  },
  {
   "cell_type": "code",
   "execution_count": null,
   "id": "7d0fff31",
   "metadata": {},
   "outputs": [],
   "source": []
  }
 ],
 "metadata": {
  "kernelspec": {
   "display_name": "Python 3 (ipykernel)",
   "language": "python",
   "name": "python3"
  },
  "language_info": {
   "codemirror_mode": {
    "name": "ipython",
    "version": 3
   },
   "file_extension": ".py",
   "mimetype": "text/x-python",
   "name": "python",
   "nbconvert_exporter": "python",
   "pygments_lexer": "ipython3",
   "version": "3.9.13"
  }
 },
 "nbformat": 4,
 "nbformat_minor": 5
}

{
 "cells": [
  {
   "cell_type": "code",
   "execution_count": null,
   "id": "9abd6825",
   "metadata": {},
   "outputs": [],
   "source": [
    "import numpy as np\n",
    "import matplotlib.pyplot as plt"
   ]
  },
  {
   "cell_type": "markdown",
   "id": "efa4772c",
   "metadata": {},
   "source": [
    "### Plotting a sigmoid function (2D)"
   ]
  },
  {
   "cell_type": "code",
   "execution_count": null,
   "id": "8a4284d6",
   "metadata": {},
   "outputs": [],
   "source": [
    "# For explanation of lambda funcions, see https://realpython.com/python-lambda/\n",
    "S = lambda z : 1 / (1 + np.exp(-z))\n",
    "\n",
    "interval_size = 30\n",
    "z = np.linspace(-6, 6, interval_size)"
   ]
  },
  {
   "cell_type": "code",
   "execution_count": null,
   "id": "5da2d815",
   "metadata": {},
   "outputs": [],
   "source": [
    "fig, ax = plt.subplots() \n",
    "fig.set_facecolor([0.9,0.4,0.5,0.6])\n",
    "ax.set(title='Activation Function', ylabel='S', xlabel='z')\n",
    "ax.set_xlim([-6, 6])\n",
    "ax.set_ylim([0, 1])\n",
    "ax.plot(z, list(map(S, z)), 'go-', linewidth=2, label='Sigmoid Curve')\n",
    "ax.grid(True, color='gray')\n",
    "ax.legend()\n",
    "plt.show()"
   ]
  },
  {
   "cell_type": "markdown",
   "id": "87e1f716",
   "metadata": {},
   "source": [
    "### Plotting a SE function for different values of the weight parameters (3D)"
   ]
  },
  {
   "cell_type": "code",
   "execution_count": null,
   "id": "217db2b0",
   "metadata": {},
   "outputs": [],
   "source": [
    "## Prior to Matplotlib 3.2.0, it was necessary to explicitly import\n",
    "## the mpl_toolkits.mplot3d module to make the '3d' projection to\n",
    "## Figure.add_subplot.\n",
    "\n",
    "# from mpl_toolkits.mplot3d import axes3d"
   ]
  },
  {
   "cell_type": "code",
   "execution_count": null,
   "id": "9838cab0",
   "metadata": {},
   "outputs": [],
   "source": [
    "# Create dense multi-dimensional “meshgrid”\n",
    "w = np.mgrid[-10:10:0.1, -10:10:0.1]\n",
    "print(w.shape)\n",
    "w"
   ]
  },
  {
   "cell_type": "code",
   "execution_count": null,
   "id": "89253b8f",
   "metadata": {},
   "outputs": [],
   "source": [
    "# Ground truth value\n",
    "y = 1\n",
    "# Weights of the model\n",
    "x = np.array([0.5, 0.3])\n",
    "# Squared error\n",
    "SE = (y - 1 / (1 + np.exp(-(w[0,:,:]*x[0] + \n",
    "       w[1,:,:]*x[1]))))**2"
   ]
  },
  {
   "cell_type": "markdown",
   "id": "50f97045",
   "metadata": {},
   "source": [
    "#### 3D surface plot"
   ]
  },
  {
   "cell_type": "code",
   "execution_count": null,
   "id": "cc96577d",
   "metadata": {},
   "outputs": [],
   "source": [
    "fig = plt.figure()\n",
    "ax = plt.axes(projection='3d')\n",
    "ax.set(title='Squared Error',\n",
    "       zlabel='SE', xlabel='w0', ylabel='w1')\n",
    "\n",
    "ax.plot_surface(w[0,:,:], w[1,:,:], SE)\n",
    "\n",
    "plt.show()"
   ]
  },
  {
   "cell_type": "code",
   "execution_count": null,
   "id": "7c8bec3f",
   "metadata": {},
   "outputs": [],
   "source": [
    "fig = plt.figure()\n",
    "ax = plt.axes(projection='3d')\n",
    "ax.set(title='Squared Error',\n",
    "       zlabel='SE', xlabel='w0', ylabel='w1')\n",
    "\n",
    "ax.plot_surface(w[0,:,:], w[1,:,:], SE,\n",
    "                rstride=20, \n",
    "                cstride=20, \n",
    "                cmap='viridis', \n",
    "                edgecolor='white')\n",
    "\n",
    "plt.show()"
   ]
  },
  {
   "cell_type": "markdown",
   "id": "20426e4d",
   "metadata": {},
   "source": [
    "#### 3D wireframe plot"
   ]
  },
  {
   "cell_type": "code",
   "execution_count": null,
   "id": "eaaeb313",
   "metadata": {},
   "outputs": [],
   "source": [
    "fig = plt.figure()\n",
    "ax = plt.axes(projection='3d')\n",
    "ax.set(title='Squared Error',\n",
    "       zlabel='SE', xlabel='w0', ylabel='w1')\n",
    "ax.plot_wireframe(w[0,:,:], w[1,:,:], SE,\n",
    "                  color='black',\n",
    "                  rstride=20,\n",
    "                  cstride=20)\n",
    "plt.show()"
   ]
  },
  {
   "cell_type": "code",
   "execution_count": null,
   "id": "0caa182d",
   "metadata": {},
   "outputs": [],
   "source": []
  }
 ],
 "metadata": {
  "kernelspec": {
   "display_name": "Python 3 (ipykernel)",
   "language": "python",
   "name": "python3"
  },
  "language_info": {
   "codemirror_mode": {
    "name": "ipython",
    "version": 3
   },
   "file_extension": ".py",
   "mimetype": "text/x-python",
   "name": "python",
   "nbconvert_exporter": "python",
   "pygments_lexer": "ipython3",
   "version": "3.9.13"
  }
 },
 "nbformat": 4,
 "nbformat_minor": 5
}
